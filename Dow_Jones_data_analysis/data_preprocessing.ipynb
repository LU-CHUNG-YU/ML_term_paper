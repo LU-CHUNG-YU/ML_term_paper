{
 "cells": [
  {
   "cell_type": "code",
   "execution_count": null,
   "metadata": {
    "jupyter": {
     "outputs_hidden": false,
     "source_hidden": false
    },
    "nteract": {
     "transient": {
      "deleting": false
     }
    }
   },
   "outputs": [],
   "source": [
    "import pandas as pd\n",
    "import numpy as np\n",
    "from sklearn.preprocessing import StandardScaler"
   ]
  },
  {
   "cell_type": "markdown",
   "metadata": {},
   "source": [
    "### Load the original data"
   ]
  },
  {
   "cell_type": "code",
   "execution_count": null,
   "metadata": {
    "jupyter": {
     "outputs_hidden": false,
     "source_hidden": false
    },
    "nteract": {
     "transient": {
      "deleting": false
     }
    }
   },
   "outputs": [],
   "source": [
    "df = pd.DataFrame([])\n",
    "\n",
    "with open(\"datasets/dow_jones_index/dow_jones_index.data\") as f:\n",
    "    feature = f.readlines()[0].split(\",\")\n",
    "    feature[-1] = feature[-1].strip(\"\\n\")\n",
    "with open(\"datasets/dow_jones_index/dow_jones_index.data\") as f_:\n",
    "    for row in f_:\n",
    "        row_splitted = row.split(\",\")\n",
    "        se = pd.DataFrame([row_splitted],columns=feature)\n",
    "        df = df.append(se,ignore_index=True)\n",
    "\n",
    "# create csv file #\n",
    "df = df.drop(index=0)\n",
    "df.to_csv(\"datasets/dow_jones_index/dow_jones_index.csv\")"
   ]
  },
  {
   "cell_type": "code",
   "execution_count": null,
   "metadata": {
    "jupyter": {
     "outputs_hidden": false,
     "source_hidden": false
    },
    "nteract": {
     "transient": {
      "deleting": false
     }
    }
   },
   "outputs": [],
   "source": [
    "df = pd.read_csv(\"datasets/dow_jones_index/dow_jones_index.csv\",index_col=0)\n",
    "df"
   ]
  },
  {
   "cell_type": "markdown",
   "metadata": {},
   "source": [
    "### Remove dollar sign"
   ]
  },
  {
   "cell_type": "code",
   "execution_count": null,
   "metadata": {
    "jupyter": {
     "outputs_hidden": false,
     "source_hidden": false
    },
    "nteract": {
     "transient": {
      "deleting": false
     }
    }
   },
   "outputs": [],
   "source": [
    "df_price = pd.DataFrame([])\n",
    "price_type = [\"open\",\"high\",\"low\",\"close\",\"next_weeks_open\",\"next_weeks_close\"]\n",
    "\n",
    "for type in price_type:\n",
    "    ls = []\n",
    "    for i in df[type].values:\n",
    "        i = i.strip(\"$\")\n",
    "        ls.append(i)\n",
    "    se = pd.DataFrame(ls,columns=[type]).T\n",
    "    df_price = df_price.append(se,ignore_index=False)\n",
    "for type in price_type:\n",
    "    df[type] = df_price.T[type].values\n"
   ]
  },
  {
   "cell_type": "markdown",
   "metadata": {},
   "source": [
    "### Transform numerical values to float type"
   ]
  },
  {
   "cell_type": "code",
   "execution_count": null,
   "metadata": {
    "jupyter": {
     "outputs_hidden": false,
     "source_hidden": false
    },
    "nteract": {
     "transient": {
      "deleting": false
     }
    }
   },
   "outputs": [],
   "source": [
    "df.iloc[:,3:] = df.iloc[:,3:].values.astype(np.float32)"
   ]
  },
  {
   "cell_type": "markdown",
   "metadata": {},
   "source": [
    "### Drop instances with missing value"
   ]
  },
  {
   "cell_type": "code",
   "execution_count": null,
   "metadata": {
    "jupyter": {
     "outputs_hidden": false,
     "source_hidden": false
    },
    "nteract": {
     "transient": {
      "deleting": false
     }
    }
   },
   "outputs": [],
   "source": [
    "df_drop_NaN = df.dropna(subset=[\"percent_change_volume_over_last_wk\",\"previous_weeks_volume\"])\n",
    "df_drop_NaN"
   ]
  },
  {
   "cell_type": "markdown",
   "metadata": {},
   "source": [
    "### Split train / test set"
   ]
  },
  {
   "cell_type": "code",
   "execution_count": null,
   "metadata": {
    "jupyter": {
     "outputs_hidden": false,
     "source_hidden": false
    },
    "nteract": {
     "transient": {
      "deleting": false
     }
    }
   },
   "outputs": [],
   "source": [
    "train_set = df_drop_NaN[df_drop_NaN[\"quarter\"] == 1]\n",
    "test_set = df_drop_NaN[df_drop_NaN[\"quarter\"] == 2]"
   ]
  },
  {
   "cell_type": "markdown",
   "metadata": {},
   "source": [
    "### Extract features (X) and labels (y) for each set"
   ]
  },
  {
   "cell_type": "code",
   "execution_count": null,
   "metadata": {
    "jupyter": {
     "outputs_hidden": false,
     "source_hidden": false
    },
    "nteract": {
     "transient": {
      "deleting": false
     }
    }
   },
   "outputs": [],
   "source": [
    "features_train = train_set.drop([\"quarter\",\"stock\",\"date\",\"percent_change_next_weeks_price\"],axis=1)\n",
    "features_test = test_set.drop([\"quarter\",\"stock\",\"date\",\"percent_change_next_weeks_price\"],axis=1)\n",
    "label_train = train_set[\"percent_change_next_weeks_price\"]\n",
    "label_test = test_set[\"percent_change_next_weeks_price\"]"
   ]
  },
  {
   "cell_type": "markdown",
   "metadata": {},
   "source": [
    "### Standardize"
   ]
  },
  {
   "cell_type": "code",
   "execution_count": null,
   "metadata": {
    "jupyter": {
     "outputs_hidden": false,
     "source_hidden": false
    },
    "nteract": {
     "transient": {
      "deleting": false
     }
    }
   },
   "outputs": [],
   "source": [
    "std_scalar = StandardScaler()\n",
    "features_train_prepared = std_scalar.fit_transform(features_train)\n",
    "features_test_prepared = std_scalar.fit_transform(features_test)\n",
    "\n",
    "features_train_prepared_df = pd.DataFrame(features_train_prepared,columns=features_train.columns)\n",
    "features_test_prepared_df = pd.DataFrame(features_test_prepared,columns=features_train.columns)"
   ]
  },
  {
   "cell_type": "markdown",
   "metadata": {},
   "source": [
    "### Save data"
   ]
  },
  {
   "cell_type": "code",
   "execution_count": null,
   "metadata": {
    "jupyter": {
     "outputs_hidden": false,
     "source_hidden": false
    },
    "nteract": {
     "transient": {
      "deleting": false
     }
    }
   },
   "outputs": [],
   "source": [
    "features_train.to_csv(\"datasets/dow_jones_index/features_train.csv\")\n",
    "features_train_prepared_df.to_csv(\"datasets/dow_jones_index/features_train_standardized.csv\")\n",
    "features_test.to_csv(\"datasets/dow_jones_index/features_test.csv\")\n",
    "features_test_prepared_df.to_csv(\"datasets/dow_jones_index/features_test_standardized.csv\")\n",
    "\n",
    "label_train.to_csv(\"datasets/dow_jones_index/label_train.csv\")\n",
    "label_test.to_csv(\"datasets/dow_jones_index/label_test.csv\")"
   ]
  },
  {
   "cell_type": "markdown",
   "metadata": {},
   "source": [
    "### Add group index to training data"
   ]
  },
  {
   "cell_type": "code",
   "execution_count": null,
   "metadata": {
    "jupyter": {
     "outputs_hidden": false,
     "source_hidden": false
    },
    "nteract": {
     "transient": {
      "deleting": false
     }
    }
   },
   "outputs": [],
   "source": [
    "group_ls = [1,1,1,1,2,1,2,2,1,1,3,3]\n",
    "\n",
    "features_train_grouped = features_train_prepared_df.append(pd.DataFrame(group_ls,columns=[\"group_index\"],index=features_train.columns).T,ignore_index=False)\n",
    "features_train_grouped = features_train_grouped.sort_values(\"group_index\",axis=1)\n",
    "features_train_grouped.to_csv(\"datasets/dow_jones_index/features_train_grouped.csv\")"
   ]
  }
 ],
 "metadata": {
  "kernelspec": {
   "display_name": "Python 3",
   "language": "python",
   "name": "python3"
  },
  "language_info": {
   "codemirror_mode": {
    "name": "ipython",
    "version": 3
   },
   "file_extension": ".py",
   "mimetype": "text/x-python",
   "name": "python",
   "nbconvert_exporter": "python",
   "pygments_lexer": "ipython3",
   "version": "3.7.4"
  }
 },
 "nbformat": 4,
 "nbformat_minor": 1
}
