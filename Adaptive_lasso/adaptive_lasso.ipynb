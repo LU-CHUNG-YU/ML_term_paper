{
 "cells": [
  {
   "cell_type": "code",
   "execution_count": null,
   "metadata": {
    "jupyter": {
     "outputs_hidden": false,
     "source_hidden": false
    },
    "nteract": {
     "transient": {
      "deleting": false
     }
    }
   },
   "outputs": [],
   "source": [
    "import pandas as pd\n",
    "import numpy as np\n",
    "import matplotlib.pyplot as plt\n",
    "%matplotlib inline\n",
    "import os\n",
    "from sklearn import preprocessing\n",
    "from sklearn.preprocessing import StandardScaler\n",
    "from sklearn.linear_model import Lasso,LinearRegression,LassoCV,LassoLars\n",
    "from sklearn.metrics import mean_squared_error"
   ]
  },
  {
   "cell_type": "markdown",
   "metadata": {},
   "source": [
    "# Create simulated data"
   ]
  },
  {
   "cell_type": "markdown",
   "metadata": {},
   "source": [
    "### Parameters"
   ]
  },
  {
   "cell_type": "code",
   "execution_count": null,
   "metadata": {
    "jupyter": {
     "outputs_hidden": false,
     "source_hidden": false
    },
    "nteract": {
     "transient": {
      "deleting": false
     }
    }
   },
   "outputs": [],
   "source": [
    "true_par = np.array([[0],[0],[0],[0],[0],[0],[1],[0.01],[10],[100]])\n",
    "p = 10\n",
    "n_train_min = 10\n",
    "step = 10\n",
    "n_train_max = 2000 + step\n",
    "n_test = 150\n",
    "iteration_times = 30\n",
    "gamma = [1,5,10]"
   ]
  },
  {
   "cell_type": "markdown",
   "metadata": {},
   "source": [
    "### Training data"
   ]
  },
  {
   "cell_type": "code",
   "execution_count": null,
   "metadata": {
    "jupyter": {
     "outputs_hidden": false,
     "source_hidden": false
    },
    "nteract": {
     "transient": {
      "deleting": false
     }
    }
   },
   "outputs": [],
   "source": [
    "std_scalar = StandardScaler()\n",
    "for i in range(n_train_min,n_train_max,step):\n",
    "    if os.path.isdir(\"datasets/adaptive_lasso/n=\"+str(i))==False:\n",
    "        os.makedirs(\"datasets/adaptive_lasso/n=\"+str(i))\n",
    "\n",
    "    for iteration in range(iteration_times):\n",
    "        X = np.random.randn(i,p)\n",
    "        X_standardized = std_scalar.fit_transform(X)\n",
    "        e = np.random.normal(0,0.75,(i,1))\n",
    "        y = X_standardized@(true_par) + e\n",
    "        y_demean = y - y.mean()\n",
    "        df = pd.DataFrame(X_standardized)\n",
    "        df[\"error\"] = e\n",
    "        df[\"prediction\"] = y_demean\n",
    "        df.to_csv(\"datasets/adaptive_lasso/n=\"+str(i)+\"/iteration=\"+str(iteration+1)+\".csv\")"
   ]
  },
  {
   "cell_type": "markdown",
   "metadata": {},
   "source": [
    "# Perfom OLS and compute the weights used in adaptive lasso"
   ]
  },
  {
   "cell_type": "markdown",
   "metadata": {},
   "source": [
    "### Perform OLS"
   ]
  },
  {
   "cell_type": "code",
   "execution_count": null,
   "metadata": {
    "jupyter": {
     "outputs_hidden": false,
     "source_hidden": false
    },
    "nteract": {
     "transient": {
      "deleting": false
     }
    }
   },
   "outputs": [],
   "source": [
    "for i in range(n_train_min,n_train_max,step):\n",
    "    for iteration in range(iteration_times):\n",
    "        df = pd.read_csv(\"datasets/adaptive_lasso/n=\"+str(i)+\"/iteration=\"+str(iteration+1)+\".csv\",index_col=0)\n",
    "        X = df.iloc[:,:10].values\n",
    "        y = df.loc[:,\"prediction\"].values\n",
    "\n",
    "        ols_reg = LinearRegression(fit_intercept=False)\n",
    "        ols_reg.fit(X,y)\n",
    "        coef_df = pd.DataFrame(ols_reg.coef_,columns=[\"ols_coef\"],index=df.columns[:-2])\n",
    "        df = pd.concat([df,coef_df.T])\n",
    "        df.to_csv(\"datasets/adaptive_lasso/n=\"+str(i)+\"/iteration=\"+str(iteration+1)+\".csv\")"
   ]
  },
  {
   "cell_type": "markdown",
   "metadata": {},
   "source": [
    "### Compute weights"
   ]
  },
  {
   "cell_type": "code",
   "execution_count": null,
   "metadata": {
    "jupyter": {
     "outputs_hidden": false,
     "source_hidden": false
    },
    "nteract": {
     "transient": {
      "deleting": false
     }
    }
   },
   "outputs": [],
   "source": [
    "for i in range(n_train_min,n_train_max,step):\n",
    "    for iteration in range(iteration_times):\n",
    "        df = pd.read_csv(\"datasets/adaptive_lasso/n=\"+str(i)+\"/iteration=\"+str(iteration+1)+\".csv\",index_col=0)\n",
    "        ols_coef = df.loc[\"ols_coef\",:].values\n",
    "        weight_df = pd.DataFrame([])\n",
    "        for r in gamma:\n",
    "            weight_se = pd.DataFrame(abs(ols_coef)**(-r),columns=[\"weights(r=\"+str(r)+\")\"],index=df.columns)\n",
    "            weight_df = weight_df.append(weight_se.T,ignore_index=False)\n",
    "        df = pd.concat([df,weight_df])\n",
    "        df.to_csv(\"datasets/adaptive_lasso/n=\"+str(i)+\"/iteration=\"+str(iteration+1)+\".csv\")"
   ]
  },
  {
   "cell_type": "markdown",
   "metadata": {},
   "source": [
    "# Adjust features (X)"
   ]
  },
  {
   "cell_type": "code",
   "execution_count": null,
   "metadata": {
    "jupyter": {
     "outputs_hidden": false,
     "source_hidden": false
    },
    "nteract": {
     "transient": {
      "deleting": false
     }
    }
   },
   "outputs": [],
   "source": [
    "for i in range(n_train_min,n_train_max,step):\n",
    "    for iteration in range(iteration_times):\n",
    "        adjusted_df_1,adjusted_df_5,adjusted_df_10 = pd.DataFrame([]),pd.DataFrame([]),pd.DataFrame([])\n",
    "        df = pd.read_csv(\"datasets/adaptive_lasso/n=\"+str(i)+\"/iteration=\"+str(iteration+1)+\".csv\",index_col=0)\n",
    "        X = df.iloc[:i,:10].values\n",
    "        weights = df.iloc[(i+1):,:10].values\n",
    "\n",
    "        for col in range(10):\n",
    "            X_ = X[:,col]\n",
    "            w_ = weights[:,col]\n",
    "            for r,df in zip(range(3),[adjusted_df_1,adjusted_df_5,adjusted_df_10]):\n",
    "                adjusted_X = X_ / w_[r]\n",
    "                df[str(col)] = adjusted_X.T\n",
    "        for r,df in zip(gamma,[adjusted_df_1,adjusted_df_5,adjusted_df_10]):\n",
    "            if os.path.isdir(\"datasets/adaptive_lasso/n=\"+str(i)+\"/adjusted\")==False:\n",
    "                os.makedirs(\"datasets/adaptive_lasso/n=\"+str(i)+\"/adjusted\")\n",
    "            df.to_csv(\"datasets/adaptive_lasso/n=\"+str(i)+\"/adjusted\"+\"/iteration=\"+str(iteration+1)+\"_r=\"+str(r)+\".csv\")"
   ]
  },
  {
   "cell_type": "markdown",
   "metadata": {},
   "source": [
    "# Perform Lasso"
   ]
  },
  {
   "cell_type": "code",
   "execution_count": null,
   "metadata": {
    "jupyter": {
     "outputs_hidden": false,
     "source_hidden": false
    },
    "nteract": {
     "transient": {
      "deleting": false
     }
    }
   },
   "outputs": [],
   "source": [
    "mse_df_lasso = pd.DataFrame([])\n",
    "for i in range(n_train_min,n_train_max,step):\n",
    "    mse_ls = []\n",
    "    for iteration in range(iteration_times):\n",
    "        df = pd.read_csv(\"datasets/adaptive_lasso/n=\"+str(i)+\"/iteration=\"+str(iteration+1)+\".csv\",index_col=0)\n",
    "        X = df.iloc[:i,:10].values\n",
    "        y = df.iloc[:i,-1].values\n",
    "\n",
    "        lasso_reg = Lasso(alpha=0.5,max_iter=5000,fit_intercept=False)\n",
    "        lasso_reg.fit(X,y)\n",
    "        lasso_coef = lasso_reg.coef_\n",
    "        mse = mean_squared_error(true_par,lasso_coef)\n",
    "        mse_ls.append(mse)\n",
    "    mse_se_lasso = pd.DataFrame(mse_ls,columns=[\"n=\"+str(i)])\n",
    "    mse_df_lasso = mse_df_lasso.append(mse_se_lasso.T,ignore_index=False)"
   ]
  },
  {
   "cell_type": "markdown",
   "metadata": {},
   "source": [
    "# Perform adaptive lasso"
   ]
  },
  {
   "cell_type": "code",
   "execution_count": null,
   "metadata": {
    "jupyter": {
     "outputs_hidden": false,
     "source_hidden": false
    },
    "nteract": {
     "transient": {
      "deleting": false
     }
    }
   },
   "outputs": [],
   "source": [
    "mse_df_alasso1,mse_df_alasso5,mse_df_alasso10 = pd.DataFrame([]),pd.DataFrame([]),pd.DataFrame([])\n",
    "for i in range(n_train_min,n_train_max,step):\n",
    "    mse_ls_alasso1,mse_ls_alasso5,mse_ls_alasso10 = [],[],[]\n",
    "    for iteration in range(iteration_times):\n",
    "        for r,r_,ls in zip(gamma,range(3),[mse_ls_alasso1,mse_ls_alasso5,mse_ls_alasso10]):\n",
    "            df_adjusted = pd.read_csv(\"datasets/adaptive_lasso/n=\"+str(i)+\"/adjusted/iteration=\"+str(iteration+1)+\"_r=\"+str(r)+\".csv\",index_col=0)\n",
    "            X = df_adjusted.iloc[:i,:10].values\n",
    "            df_original = pd.read_csv(\"datasets/adaptive_lasso/n=\"+str(i)+\"/iteration=\"+str(iteration+1)+\".csv\",index_col=0)\n",
    "            y = df_original.iloc[:i,-1].values\n",
    "            weights = df_original.iloc[(i+1):,:10].values[r_,:]\n",
    "\n",
    "            lasso_reg = Lasso(alpha=0.5,max_iter=5000,fit_intercept=False)\n",
    "            lasso_reg.fit(X,y)\n",
    "            alasso_coef = lasso_reg.coef_\n",
    "            for f in range(10):\n",
    "                alasso_coef[f] = alasso_coef[f] / weights[f]\n",
    "\n",
    "            mse = mean_squared_error(true_par,alasso_coef)\n",
    "            ls.append(mse)\n",
    "    mse_df_alasso1 = mse_df_alasso1.append(pd.DataFrame(mse_ls_alasso1,columns=[\"n=\"+str(i)]).T,ignore_index=False)\n",
    "    mse_df_alasso5 = mse_df_alasso5.append(pd.DataFrame(mse_ls_alasso5,columns=[\"n=\"+str(i)]).T,ignore_index=False)\n",
    "    mse_df_alasso10 = mse_df_alasso10.append(pd.DataFrame(mse_ls_alasso10,columns=[\"n=\"+str(i)]).T,ignore_index=False)"
   ]
  },
  {
   "cell_type": "markdown",
   "metadata": {},
   "source": [
    "# Plot Figure_2 "
   ]
  },
  {
   "cell_type": "code",
   "execution_count": null,
   "metadata": {
    "jupyter": {
     "outputs_hidden": false,
     "source_hidden": false
    },
    "nteract": {
     "transient": {
      "deleting": false
     }
    }
   },
   "outputs": [],
   "source": [
    "mean_mse_table = pd.concat([df.mean(axis=1) for df in [mse_df_lasso,mse_df_alasso1,mse_df_alasso5,mse_df_alasso10]],axis=1)\n",
    "mean_mse_table.columns = [\"lasso\",\"alasso(r=1)\",\"alasso(r=5)\",\"alasso(r=10)\"]\n",
    "mean_mse_table"
   ]
  },
  {
   "cell_type": "code",
   "execution_count": null,
   "metadata": {
    "jupyter": {
     "outputs_hidden": false,
     "source_hidden": false
    },
    "nteract": {
     "transient": {
      "deleting": false
     }
    }
   },
   "outputs": [],
   "source": [
    "plt.figure(figsize=(10,8))\n",
    "for index,name in zip(range(4),mean_mse_table.columns):\n",
    "    plt.plot(range(20,n_train_max,step),mean_mse_table.iloc[1:,index],label=name)\n",
    "plt.xlabel(\"Sample Size\",size=15)\n",
    "plt.ylabel(\"mean MSE\",size=15)\n",
    "plt.legend(bbox_to_anchor=(1,1), loc=\"upper right\", borderaxespad=1)\n",
    "plt.savefig(\"datasets/adaptive_lasso/mean_coef_mse.png\")\n",
    "plt.show()"
   ]
  }
 ],
 "metadata": {
  "kernelspec": {
   "display_name": "Python 3",
   "language": "python",
   "name": "python3"
  },
  "language_info": {
   "codemirror_mode": {
    "name": "ipython",
    "version": 3
   },
   "file_extension": ".py",
   "mimetype": "text/x-python",
   "name": "python",
   "nbconvert_exporter": "python",
   "pygments_lexer": "ipython3",
   "version": "3.7.4"
  }
 },
 "nbformat": 4,
 "nbformat_minor": 1
}
