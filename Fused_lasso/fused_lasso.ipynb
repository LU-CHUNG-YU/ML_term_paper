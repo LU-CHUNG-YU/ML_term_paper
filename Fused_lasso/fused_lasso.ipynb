{
 "cells": [
  {
   "cell_type": "code",
   "execution_count": null,
   "metadata": {
    "jupyter": {
     "outputs_hidden": false,
     "source_hidden": false
    },
    "nteract": {
     "transient": {
      "deleting": false
     }
    }
   },
   "outputs": [],
   "source": [
    "import pandas as pd\n",
    "import numpy as np\n",
    "import matplotlib.pyplot as plt\n",
    "%matplotlib inline\n",
    "import os\n",
    "from sklearn import preprocessing\n",
    "from sklearn.linear_model import Lasso,LinearRegression,LassoCV\n",
    "from sklearn.metrics import mean_squared_error\n",
    "from spmimage.linear_model import FusedLassoADMM as FusedLasso\n",
    "def plot_axis_and_b(x,y,x_label,y_label):\n",
    "    plt.plot(x,y,\"ko\")\n",
    "    plt.xlabel(x_label,size=10)\n",
    "    plt.ylabel(y_label,size=10)"
   ]
  },
  {
   "cell_type": "markdown",
   "metadata": {},
   "source": [
    "# Create training data"
   ]
  },
  {
   "cell_type": "code",
   "execution_count": null,
   "metadata": {
    "jupyter": {
     "outputs_hidden": false,
     "source_hidden": false
    },
    "nteract": {
     "transient": {
      "deleting": false
     }
    }
   },
   "outputs": [],
   "source": [
    "n = 20\n",
    "p = 100\n",
    "X_train = preprocessing.scale(np.random.randn(n,p))\n",
    "e = np.random.normal(0,0.75,(n,1))\n",
    "b = np.zeros((p,1))\n",
    "b[15:20] = 5\n",
    "b[50:60] = 3.5\n",
    "b[90:100] = 4\n",
    "y_train = X_train@b + e"
   ]
  },
  {
   "cell_type": "markdown",
   "metadata": {},
   "source": [
    "# Perform lasso"
   ]
  },
  {
   "cell_type": "code",
   "execution_count": null,
   "metadata": {
    "jupyter": {
     "outputs_hidden": false,
     "source_hidden": false
    },
    "nteract": {
     "transient": {
      "deleting": false
     }
    }
   },
   "outputs": [],
   "source": [
    "lasso_reg = LassoCV(fit_intercept=False,random_state=42)\n",
    "lasso_reg.fit(X_train,y_train)"
   ]
  },
  {
   "cell_type": "markdown",
   "metadata": {},
   "source": [
    "### Plot Figure_3"
   ]
  },
  {
   "cell_type": "code",
   "execution_count": null,
   "metadata": {
    "jupyter": {
     "outputs_hidden": false,
     "source_hidden": false
    },
    "nteract": {
     "transient": {
      "deleting": false
     }
    }
   },
   "outputs": [],
   "source": [
    "feature = np.linspace(1,100,100,endpoint=True)\n",
    "\n",
    "plt.plot(feature,b,\"ko\")\n",
    "plt.plot(feature,lasso_reg.coef_.T,\"ro\")\n",
    "plt.xlabel(\"Features\",size=10)\n",
    "plt.ylabel(\"Coefficients\",size=10)\n",
    "plt.title(\"Lasso(alpha selected by CV)\",size=15,loc='left')\n",
    "plt.savefig(\"datasets/fused_lasso/lasso(alpha=\"+str(lasso_reg.alpha_)+\").png\")\n",
    "plt.show()"
   ]
  },
  {
   "cell_type": "markdown",
   "metadata": {},
   "source": [
    "# Perform fused lasso"
   ]
  },
  {
   "cell_type": "code",
   "execution_count": null,
   "metadata": {
    "jupyter": {
     "outputs_hidden": false,
     "source_hidden": false
    },
    "nteract": {
     "transient": {
      "deleting": false
     }
    }
   },
   "outputs": [],
   "source": [
    "sparse_coef_ls = [0.01,1,5,10]\n",
    "trend_coef_ls =[ 0.01,1,5,10]\n",
    "df = pd.DataFrame([])\n",
    "\n",
    "for alpha1 in sparse_coef_ls:\n",
    "    for alpha2 in trend_coef_ls:\n",
    "        flasso_reg = FusedLasso(sparse_coef=alpha1,trend_coef=alpha2,fit_intercept=False)\n",
    "        flasso_reg.fit(X_train,y_train)\n",
    "        se = pd.DataFrame(flasso_reg.coef_,columns=[\"alpha1 = \"+str(alpha1)+\",alpha2 = \"+str(alpha2)]).T\n",
    "        df = df.append(se,ignore_index=False)\n",
    "df.to_csv(\"datasets/fused_lasso/flasso_coef.csv\")"
   ]
  },
  {
   "cell_type": "markdown",
   "metadata": {},
   "source": [
    "### Plot Figure_4"
   ]
  },
  {
   "cell_type": "code",
   "execution_count": null,
   "metadata": {
    "jupyter": {
     "outputs_hidden": false,
     "source_hidden": false
    },
    "nteract": {
     "transient": {
      "deleting": false
     }
    }
   },
   "outputs": [],
   "source": [
    "plt.figure(figsize=(16,16))\n",
    "# (0.01,0.01) #\n",
    "plt.subplot(4,4,1)\n",
    "plot_axis_and_b(x=feature,y=b,x_label=\"Features\",y_label=\"Coefficients\")\n",
    "plt.plot(feature,df.iloc[0,:].values,\"ro\")\n",
    "plt.gcf().text(0.16,0.9,s=\"alpha2=0.01\",size=15)\n",
    "plt.gcf().text(-0.001,0.8,s=\"alpha1=0.01\",size=15)\n",
    "# (0.01,1) #\n",
    "plt.subplot(4,4,2)\n",
    "plot_axis_and_b(x=feature,y=b,x_label=\"Features\",y_label=\"Coefficients\")\n",
    "plt.plot(feature,df.iloc[1,:].values,\"ro\")\n",
    "plt.gcf().text(0.38,0.9,s=\"alpha2=1\",size=15)\n",
    "# (0.01,5) #\n",
    "plt.subplot(4,4,3)\n",
    "plot_axis_and_b(x=feature,y=b,x_label=\"Features\",y_label=\"Coefficients\")\n",
    "plt.plot(feature,df.iloc[2,:].values,\"ro\")\n",
    "plt.gcf().text(0.58,0.9,s=\"alpha2=5\",size=15)\n",
    "# (0.01,10) #\n",
    "plt.subplot(4,4,4)\n",
    "plot_axis_and_b(x=feature,y=b,x_label=\"Features\",y_label=\"Coefficients\")\n",
    "plt.plot(feature,df.iloc[3,:].values,\"ro\")\n",
    "plt.gcf().text(0.78,0.9,s=\"alpha2=10\",size=15)\n",
    "# (1,0.01) #\n",
    "plt.subplot(4,4,5)\n",
    "plot_axis_and_b(x=feature,y=b,x_label=\"Features\",y_label=\"Coefficients\")\n",
    "plt.plot(feature,df.iloc[4,:].values,\"ro\")\n",
    "plt.gcf().text(0.01,0.6,s=\"alpha1=1\",size=15)\n",
    "# (1,1) #\n",
    "plt.subplot(4,4,6)\n",
    "plot_axis_and_b(x=feature,y=b,x_label=\"Features\",y_label=\"Coefficients\")\n",
    "plt.plot(feature,df.iloc[5,:].values,\"ro\")\n",
    "# (1,5) #\n",
    "plt.subplot(4,4,7)\n",
    "plot_axis_and_b(x=feature,y=b,x_label=\"Features\",y_label=\"Coefficients\")\n",
    "plt.plot(feature,df.iloc[6,:].values,\"ro\")\n",
    "# (1,10) #\n",
    "plt.subplot(4,4,8)\n",
    "plot_axis_and_b(x=feature,y=b,x_label=\"Features\",y_label=\"Coefficients\")\n",
    "plt.plot(feature,df.iloc[7,:].values,\"ro\")\n",
    "# (5,0.01) #\n",
    "plt.subplot(4,4,9)\n",
    "plot_axis_and_b(x=feature,y=b,x_label=\"Features\",y_label=\"Coefficients\")\n",
    "plt.plot(feature,df.iloc[8,:].values,\"ro\")\n",
    "plt.gcf().text(0.01,0.4,s=\"alpha1=5\",size=15)\n",
    "# (5,1) #\n",
    "plt.subplot(4,4,10)\n",
    "plot_axis_and_b(x=feature,y=b,x_label=\"Features\",y_label=\"Coefficients\")\n",
    "plt.plot(feature,df.iloc[9,:].values,\"ro\")\n",
    "# (5,5) #\n",
    "plt.subplot(4,4,11)\n",
    "plot_axis_and_b(x=feature,y=b,x_label=\"Features\",y_label=\"Coefficients\")\n",
    "plt.plot(feature,df.iloc[10,:].values,\"ro\")\n",
    "# (5,10) #\n",
    "plt.subplot(4,4,12)\n",
    "plot_axis_and_b(x=feature,y=b,x_label=\"Features\",y_label=\"Coefficients\")\n",
    "plt.plot(feature,df.iloc[11,:].values,\"ro\")\n",
    "# (10,0.01) #\n",
    "plt.subplot(4,4,13)\n",
    "plot_axis_and_b(x=feature,y=b,x_label=\"Features\",y_label=\"Coefficients\")\n",
    "plt.plot(feature,df.iloc[12,:].values,\"ro\")\n",
    "plt.gcf().text(0.01,0.2,s=\"alpha1=10\",size=15)\n",
    "# (10,1) #\n",
    "plt.subplot(4,4,14)\n",
    "plot_axis_and_b(x=feature,y=b,x_label=\"Features\",y_label=\"Coefficients\")\n",
    "plt.plot(feature,df.iloc[13,:].values,\"ro\")\n",
    "# (10,5) #\n",
    "plt.subplot(4,4,15)\n",
    "plot_axis_and_b(x=feature,y=b,x_label=\"Features\",y_label=\"Coefficients\")\n",
    "plt.plot(feature,df.iloc[14,:].values,\"ro\")\n",
    "# (10,10) #\n",
    "plt.subplot(4,4,16)\n",
    "plot_axis_and_b(x=feature,y=b,x_label=\"Features\",y_label=\"Coefficients\")\n",
    "plt.plot(feature,df.iloc[15,:].values,\"ro\")\n",
    "\n",
    "plt.savefig(\"datasets/fused_lasso/flasso.png\")\n",
    "plt.show()"
   ]
  }
 ],
 "metadata": {
  "kernelspec": {
   "display_name": "Python 3",
   "language": "python",
   "name": "python3"
  },
  "language_info": {
   "codemirror_mode": {
    "name": "ipython",
    "version": 3
   },
   "file_extension": ".py",
   "mimetype": "text/x-python",
   "name": "python",
   "nbconvert_exporter": "python",
   "pygments_lexer": "ipython3",
   "version": "3.7.4"
  }
 },
 "nbformat": 4,
 "nbformat_minor": 1
}
