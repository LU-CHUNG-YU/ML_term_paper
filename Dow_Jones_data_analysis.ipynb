{
 "cells": [
  {
   "cell_type": "code",
   "execution_count": 1,
   "metadata": {
    "jupyter": {
     "outputs_hidden": false,
     "source_hidden": false
    },
    "nteract": {
     "transient": {
      "deleting": false
     }
    }
   },
   "outputs": [],
   "source": [
    "import pandas as pd\n",
    "import numpy as np\n",
    "import matplotlib.pyplot as plt\n",
    "%matplotlib inline\n",
    "import os\n",
    "\n",
    "from scipy.stats import uniform,randint\n",
    "from sklearn.linear_model import LinearRegression,Lasso,LassoCV,ElasticNet,ElasticNetCV\n",
    "from sklearn.metrics import mean_squared_error\n",
    "from group_lasso import GroupLasso"
   ]
  },
  {
   "cell_type": "markdown",
   "metadata": {},
   "source": [
    "# Load Data"
   ]
  },
  {
   "cell_type": "code",
   "execution_count": 7,
   "metadata": {
    "jupyter": {
     "outputs_hidden": false,
     "source_hidden": false
    },
    "nteract": {
     "transient": {
      "deleting": false
     }
    }
   },
   "outputs": [
    {
     "name": "stdout",
     "output_type": "stream",
     "text": [
      "features:\n",
      "                 open      high       low     close  percent_change_price  \\\n",
      "0           -1.147634 -1.154258 -1.167717 -1.165912             -1.837968   \n",
      "1           -1.164122 -1.164488 -1.169004 -1.171561             -1.066790   \n",
      "2           -1.174269 -1.156738 -1.161925 -1.160890              0.551709   \n",
      "3           -1.164439 -1.133179 -1.150341 -1.129190              2.243461   \n",
      "4           -1.127975 -1.130389 -1.124921 -1.121971             -0.002695   \n",
      "...               ...       ...       ...       ...                   ...   \n",
      "326          1.045288  1.011047  1.017434  1.003212             -0.455992   \n",
      "327          1.044337  0.996167  0.906423  0.910308             -1.800607   \n",
      "328          0.912115  0.889529  0.864592  0.870447             -0.489097   \n",
      "329          0.918457  0.929519  0.963054  0.957387              0.748353   \n",
      "group_index  1.000000  1.000000  1.000000  1.000000              1.000000   \n",
      "\n",
      "               volume  percent_change_volume_over_last_wk  \\\n",
      "0            0.740141                           -0.070780   \n",
      "1            0.101240                           -1.061888   \n",
      "2            0.180392                            0.107225   \n",
      "3            0.198780                           -0.057227   \n",
      "4           -0.043838                           -0.675473   \n",
      "...               ...                                 ...   \n",
      "326         -0.120586                           -0.465309   \n",
      "327         -0.178075                           -0.307144   \n",
      "328          0.012531                            0.649071   \n",
      "329         -0.235303                           -0.831975   \n",
      "group_index  2.000000                            2.000000   \n",
      "\n",
      "             previous_weeks_volume  days_to_next_dividend  \\\n",
      "0                         0.632595              -0.652820   \n",
      "1                         0.651218              -0.786072   \n",
      "2                         0.062657              -0.919324   \n",
      "3                         0.135573               0.831989   \n",
      "4                         0.152512               0.698737   \n",
      "...                            ...                    ...   \n",
      "326                      -0.029737               0.279945   \n",
      "327                      -0.141691               0.146693   \n",
      "328                      -0.194651               0.013441   \n",
      "329                      -0.019063              -0.119811   \n",
      "group_index               2.000000               3.000000   \n",
      "\n",
      "             percent_return_next_dividend  \n",
      "0                               -1.581798  \n",
      "1                               -1.575106  \n",
      "2                               -1.587617  \n",
      "3                               -1.621856  \n",
      "4                               -1.629094  \n",
      "...                                   ...  \n",
      "326                             -0.442915  \n",
      "327                             -0.380712  \n",
      "328                             -0.352628  \n",
      "329                             -0.412785  \n",
      "group_index                      3.000000  \n",
      "\n",
      "[331 rows x 10 columns]\n",
      "label:\n",
      "     percent_change_next_weeks_price\n",
      "2                          -2.470660\n",
      "3                           1.638310\n",
      "4                           5.933250\n",
      "5                           0.230814\n",
      "6                          -0.632547\n",
      "..                               ...\n",
      "356                        -0.919995\n",
      "357                        -4.333640\n",
      "358                        -1.004040\n",
      "359                         2.137540\n",
      "360                         0.977820\n",
      "\n",
      "[330 rows x 1 columns]\n"
     ]
    }
   ],
   "source": [
    "path = os.path.join(\"datasets\",\"dow_jones_index\")\n",
    "df_feature_train = pd.read_csv(path+\"/features_train_grouped.csv\",index_col=0)\n",
    "df_label_train = pd.read_csv(path+\"/label_train.csv\",index_col=0)\n",
    "df_feature_test = pd.read_csv(path+\"/features_test_standardized.csv\",index_col=0)\n",
    "df_label_test = pd.read_csv(path+\"/label_test.csv\",index_col=0)\n",
    "\n",
    "df_feature_train = df_feature_train.drop([\"next_weeks_open\",\"next_weeks_close\"],axis=1)\n",
    "df_feature_test = df_feature_test.drop([\"next_weeks_open\",\"next_weeks_close\"],axis=1)\n",
    "\n",
    "print(\"features:\")\n",
    "print(df_feature_train)\n",
    "print(\"label:\")\n",
    "print(df_label_train)"
   ]
  },
  {
   "cell_type": "markdown",
   "metadata": {},
   "source": [
    "### Extract numerical values from the tables"
   ]
  },
  {
   "cell_type": "code",
   "execution_count": 9,
   "metadata": {
    "jupyter": {
     "outputs_hidden": false,
     "source_hidden": false
    },
    "nteract": {
     "transient": {
      "deleting": false
     }
    }
   },
   "outputs": [],
   "source": [
    "features = list(df_feature_train.columns)\n",
    "group_index = df_feature_train.loc[\"group_index\"]\n",
    "coeff_df = pd.DataFrame([group_index]).T\n",
    "mse_df = pd.DataFrame([],index=[\"mse\"])\n",
    "\n",
    "group_ls = group_index.values\n",
    "X_train = df_feature_train.iloc[:-1,:].values\n",
    "y_train = df_label_train.values\n",
    "X_test = df_feature_test.values\n",
    "y_test = df_label_test.values"
   ]
  },
  {
   "cell_type": "markdown",
   "metadata": {},
   "source": [
    "# Perform OLS"
   ]
  },
  {
   "cell_type": "code",
   "execution_count": 10,
   "metadata": {
    "jupyter": {
     "outputs_hidden": false,
     "source_hidden": false
    },
    "nteract": {
     "transient": {
      "deleting": false
     }
    }
   },
   "outputs": [],
   "source": [
    "ols_reg = LinearRegression()\n",
    "ols_reg.fit(X_train,y_train)\n",
    "y_pred_ols = ols_reg.predict(X_test)\n",
    "mse_ols = mean_squared_error(y_test,y_pred_ols) # calculate MSE\n",
    "\n",
    "# save the coefficients and mse #\n",
    "coeff_df[\"OLS\"] = ols_reg.coef_.T\n",
    "mse_df[\"OLS\"] = mse_ols"
   ]
  },
  {
   "cell_type": "markdown",
   "metadata": {},
   "source": [
    "# Perform Lasso"
   ]
  },
  {
   "cell_type": "code",
   "execution_count": 11,
   "metadata": {
    "jupyter": {
     "outputs_hidden": false,
     "source_hidden": false
    },
    "nteract": {
     "transient": {
      "deleting": false
     }
    }
   },
   "outputs": [
    {
     "name": "stderr",
     "output_type": "stream",
     "text": [
      "/opt/conda/lib/python3.7/site-packages/sklearn/linear_model/_coordinate_descent.py:1088: DataConversionWarning: A column-vector y was passed when a 1d array was expected. Please change the shape of y to (n_samples, ), for example using ravel().\n",
      "  y = column_or_1d(y, warn=True)\n"
     ]
    }
   ],
   "source": [
    "lasso_reg = LassoCV(max_iter=15000)\n",
    "lasso_reg.fit(X_train,y_train)\n",
    "y_pred_lasso = lasso_reg.predict(X_test)\n",
    "mse_lasso = mean_squared_error(y_test,y_pred_lasso) # calculate MSE\n",
    "\n",
    "# save the coefficients and mse #\n",
    "coeff_df[\"LassoCV\"] = lasso_reg.coef_.T\n",
    "mse_df[\"LassoCV\"] = mse_lasso"
   ]
  },
  {
   "cell_type": "markdown",
   "metadata": {},
   "source": [
    "# Perform Elastic Net"
   ]
  },
  {
   "cell_type": "code",
   "execution_count": 12,
   "metadata": {
    "jupyter": {
     "outputs_hidden": false,
     "source_hidden": false
    },
    "nteract": {
     "transient": {
      "deleting": false
     }
    }
   },
   "outputs": [
    {
     "name": "stderr",
     "output_type": "stream",
     "text": [
      "/opt/conda/lib/python3.7/site-packages/sklearn/linear_model/_coordinate_descent.py:1088: DataConversionWarning: A column-vector y was passed when a 1d array was expected. Please change the shape of y to (n_samples, ), for example using ravel().\n",
      "  y = column_or_1d(y, warn=True)\n"
     ]
    }
   ],
   "source": [
    "elastic_net_reg = ElasticNetCV(max_iter=15000)\n",
    "elastic_net_reg.fit(X_train,y_train)\n",
    "y_pred_net = elastic_net_reg.predict(X_test)\n",
    "mse_net = mean_squared_error(y_test,y_pred_net) # calculate MSE\n",
    "\n",
    "# save the coefficients and mse #\n",
    "coeff_df[\"ElasticNetCV\"] = elastic_net_reg.coef_.T\n",
    "mse_df[\"ElasticNetCV\"] = mse_net"
   ]
  },
  {
   "cell_type": "markdown",
   "metadata": {},
   "source": [
    "# Perform group lasso"
   ]
  },
  {
   "cell_type": "code",
   "execution_count": 13,
   "metadata": {
    "jupyter": {
     "outputs_hidden": false,
     "source_hidden": false
    },
    "nteract": {
     "transient": {
      "deleting": false
     }
    }
   },
   "outputs": [],
   "source": [
    "gl = GroupLasso(groups=group_ls,group_reg=0.1,l1_reg=0,n_iter=15000,tol=1e-3,supress_warning=True)\n",
    "gl.fit(X_train,y_train)\n",
    "y_pred_gl = gl.predict(X_test)\n",
    "mse_gl = mean_squared_error(y_test,y_pred_gl) # calculate MSE\n",
    "\n",
    "# save the coefficients and mse #\n",
    "coeff_df[\"gLasso(lambda=0.1)\"] = gl.coef_\n",
    "mse_df[\"gLasso(lambda=0.1)\"] = mse_gl"
   ]
  },
  {
   "cell_type": "markdown",
   "metadata": {},
   "source": [
    "# Perform sparse group lasso"
   ]
  },
  {
   "cell_type": "code",
   "execution_count": 14,
   "metadata": {
    "jupyter": {
     "outputs_hidden": false,
     "source_hidden": false
    },
    "nteract": {
     "transient": {
      "deleting": false
     }
    }
   },
   "outputs": [],
   "source": [
    "sgl = GroupLasso(groups=group_ls,group_reg=0.1,l1_reg=0.01,n_iter=15000,tol=1e-3,supress_warning=True)\n",
    "sgl.fit(X_train,y_train)\n",
    "y_pred_sgl = sgl.predict(X_test)\n",
    "mse_sgl = mean_squared_error(y_test,y_pred_sgl) # calculate MSE\n",
    "\n",
    "# save the coefficients and mse #\n",
    "coeff_df[\"sgLasso(lambda=0.01,lambda2=0.1)\"] = sgl.coef_\n",
    "mse_df[\"sgLasso(lambda1=0.01,lambda2=0.1)\"] = mse_sgl"
   ]
  },
  {
   "cell_type": "markdown",
   "metadata": {},
   "source": [
    "# Results"
   ]
  },
  {
   "cell_type": "code",
   "execution_count": 15,
   "metadata": {
    "jupyter": {
     "outputs_hidden": false,
     "source_hidden": false
    },
    "nteract": {
     "transient": {
      "deleting": false
     }
    }
   },
   "outputs": [
    {
     "data": {
      "text/html": [
       "<div>\n",
       "<style scoped>\n",
       "    .dataframe tbody tr th:only-of-type {\n",
       "        vertical-align: middle;\n",
       "    }\n",
       "\n",
       "    .dataframe tbody tr th {\n",
       "        vertical-align: top;\n",
       "    }\n",
       "\n",
       "    .dataframe thead th {\n",
       "        text-align: right;\n",
       "    }\n",
       "</style>\n",
       "<table border=\"1\" class=\"dataframe\">\n",
       "  <thead>\n",
       "    <tr style=\"text-align: right;\">\n",
       "      <th></th>\n",
       "      <th>group_index</th>\n",
       "      <th>OLS</th>\n",
       "      <th>LassoCV</th>\n",
       "      <th>ElasticNetCV</th>\n",
       "      <th>gLasso(lambda=0.1)</th>\n",
       "      <th>sgLasso(lambda=0.01,lambda2=0.1)</th>\n",
       "    </tr>\n",
       "  </thead>\n",
       "  <tbody>\n",
       "    <tr>\n",
       "      <th>open</th>\n",
       "      <td>1.0</td>\n",
       "      <td>-11.034200</td>\n",
       "      <td>0.000000</td>\n",
       "      <td>0.014496</td>\n",
       "      <td>0.004982</td>\n",
       "      <td>0.002616</td>\n",
       "    </tr>\n",
       "    <tr>\n",
       "      <th>high</th>\n",
       "      <td>1.0</td>\n",
       "      <td>17.469382</td>\n",
       "      <td>0.134822</td>\n",
       "      <td>0.084465</td>\n",
       "      <td>0.005117</td>\n",
       "      <td>0.002687</td>\n",
       "    </tr>\n",
       "    <tr>\n",
       "      <th>low</th>\n",
       "      <td>1.0</td>\n",
       "      <td>-6.604163</td>\n",
       "      <td>0.000000</td>\n",
       "      <td>0.004636</td>\n",
       "      <td>0.004969</td>\n",
       "      <td>0.002609</td>\n",
       "    </tr>\n",
       "    <tr>\n",
       "      <th>close</th>\n",
       "      <td>1.0</td>\n",
       "      <td>0.443227</td>\n",
       "      <td>0.000000</td>\n",
       "      <td>0.041621</td>\n",
       "      <td>0.005035</td>\n",
       "      <td>0.002643</td>\n",
       "    </tr>\n",
       "    <tr>\n",
       "      <th>percent_change_price</th>\n",
       "      <td>1.0</td>\n",
       "      <td>-0.206961</td>\n",
       "      <td>0.000000</td>\n",
       "      <td>0.000000</td>\n",
       "      <td>0.000360</td>\n",
       "      <td>0.000000</td>\n",
       "    </tr>\n",
       "    <tr>\n",
       "      <th>volume</th>\n",
       "      <td>2.0</td>\n",
       "      <td>0.026984</td>\n",
       "      <td>-0.000000</td>\n",
       "      <td>-0.000000</td>\n",
       "      <td>-0.050454</td>\n",
       "      <td>-0.041255</td>\n",
       "    </tr>\n",
       "    <tr>\n",
       "      <th>percent_change_volume_over_last_wk</th>\n",
       "      <td>2.0</td>\n",
       "      <td>-0.110681</td>\n",
       "      <td>0.000000</td>\n",
       "      <td>0.000000</td>\n",
       "      <td>0.021175</td>\n",
       "      <td>0.014498</td>\n",
       "    </tr>\n",
       "    <tr>\n",
       "      <th>previous_weeks_volume</th>\n",
       "      <td>2.0</td>\n",
       "      <td>-0.226586</td>\n",
       "      <td>-0.166192</td>\n",
       "      <td>-0.158924</td>\n",
       "      <td>-0.061905</td>\n",
       "      <td>-0.050962</td>\n",
       "    </tr>\n",
       "    <tr>\n",
       "      <th>days_to_next_dividend</th>\n",
       "      <td>3.0</td>\n",
       "      <td>-0.047213</td>\n",
       "      <td>-0.000000</td>\n",
       "      <td>-0.000000</td>\n",
       "      <td>-0.000000</td>\n",
       "      <td>-0.000000</td>\n",
       "    </tr>\n",
       "    <tr>\n",
       "      <th>percent_return_next_dividend</th>\n",
       "      <td>3.0</td>\n",
       "      <td>0.331217</td>\n",
       "      <td>0.133840</td>\n",
       "      <td>0.138335</td>\n",
       "      <td>0.000000</td>\n",
       "      <td>0.000000</td>\n",
       "    </tr>\n",
       "  </tbody>\n",
       "</table>\n",
       "</div>"
      ],
      "text/plain": [
       "                                    group_index        OLS   LassoCV  \\\n",
       "open                                        1.0 -11.034200  0.000000   \n",
       "high                                        1.0  17.469382  0.134822   \n",
       "low                                         1.0  -6.604163  0.000000   \n",
       "close                                       1.0   0.443227  0.000000   \n",
       "percent_change_price                        1.0  -0.206961  0.000000   \n",
       "volume                                      2.0   0.026984 -0.000000   \n",
       "percent_change_volume_over_last_wk          2.0  -0.110681  0.000000   \n",
       "previous_weeks_volume                       2.0  -0.226586 -0.166192   \n",
       "days_to_next_dividend                       3.0  -0.047213 -0.000000   \n",
       "percent_return_next_dividend                3.0   0.331217  0.133840   \n",
       "\n",
       "                                    ElasticNetCV  gLasso(lambda=0.1)  \\\n",
       "open                                    0.014496            0.004982   \n",
       "high                                    0.084465            0.005117   \n",
       "low                                     0.004636            0.004969   \n",
       "close                                   0.041621            0.005035   \n",
       "percent_change_price                    0.000000            0.000360   \n",
       "volume                                 -0.000000           -0.050454   \n",
       "percent_change_volume_over_last_wk      0.000000            0.021175   \n",
       "previous_weeks_volume                  -0.158924           -0.061905   \n",
       "days_to_next_dividend                  -0.000000           -0.000000   \n",
       "percent_return_next_dividend            0.138335            0.000000   \n",
       "\n",
       "                                    sgLasso(lambda=0.01,lambda2=0.1)  \n",
       "open                                                        0.002616  \n",
       "high                                                        0.002687  \n",
       "low                                                         0.002609  \n",
       "close                                                       0.002643  \n",
       "percent_change_price                                        0.000000  \n",
       "volume                                                     -0.041255  \n",
       "percent_change_volume_over_last_wk                          0.014498  \n",
       "previous_weeks_volume                                      -0.050962  \n",
       "days_to_next_dividend                                      -0.000000  \n",
       "percent_return_next_dividend                                0.000000  "
      ]
     },
     "execution_count": 15,
     "metadata": {},
     "output_type": "execute_result"
    }
   ],
   "source": [
    "coeff_df"
   ]
  },
  {
   "cell_type": "markdown",
   "metadata": {},
   "source": [
    "### correlation coefficients"
   ]
  },
  {
   "cell_type": "code",
   "execution_count": 13,
   "metadata": {},
   "outputs": [
    {
     "name": "stdout",
     "output_type": "stream",
     "text": [
      "                                        open      high       low     close  \\\n",
      "open                                1.000000  0.999589  0.999403  0.999084   \n",
      "high                                0.999589  1.000000  0.999540  0.999606   \n",
      "low                                 0.999403  0.999540  1.000000  0.999681   \n",
      "close                               0.999084  0.999606  0.999681  1.000000   \n",
      "percent_change_price                0.111681  0.128472  0.134045  0.146949   \n",
      "volume                             -0.496023 -0.494240 -0.499041 -0.497700   \n",
      "percent_change_volume_over_last_wk  0.025136  0.026946  0.012895  0.013177   \n",
      "previous_weeks_volume              -0.485692 -0.484115 -0.485296 -0.484026   \n",
      "days_to_next_dividend              -0.047445 -0.047564 -0.049196 -0.047662   \n",
      "percent_return_next_dividend       -0.136370 -0.140011 -0.134523 -0.137836   \n",
      "\n",
      "                                    percent_change_price    volume  \\\n",
      "open                                            0.111681 -0.496023   \n",
      "high                                            0.128472 -0.494240   \n",
      "low                                             0.134045 -0.499041   \n",
      "close                                           0.146949 -0.497700   \n",
      "percent_change_price                            1.000000 -0.214038   \n",
      "volume                                         -0.214038  1.000000   \n",
      "percent_change_volume_over_last_wk             -0.350213  0.207264   \n",
      "previous_weeks_volume                          -0.038923  0.865950   \n",
      "days_to_next_dividend                           0.043496 -0.045132   \n",
      "percent_return_next_dividend                    0.003832 -0.252951   \n",
      "\n",
      "                                    percent_change_volume_over_last_wk  \\\n",
      "open                                                          0.025136   \n",
      "high                                                          0.026946   \n",
      "low                                                           0.012895   \n",
      "close                                                         0.013177   \n",
      "percent_change_price                                         -0.350213   \n",
      "volume                                                        0.207264   \n",
      "percent_change_volume_over_last_wk                            1.000000   \n",
      "previous_weeks_volume                                        -0.127497   \n",
      "days_to_next_dividend                                        -0.000235   \n",
      "percent_return_next_dividend                                 -0.000919   \n",
      "\n",
      "                                    previous_weeks_volume  \\\n",
      "open                                            -0.485692   \n",
      "high                                            -0.484115   \n",
      "low                                             -0.485296   \n",
      "close                                           -0.484026   \n",
      "percent_change_price                            -0.038923   \n",
      "volume                                           0.865950   \n",
      "percent_change_volume_over_last_wk              -0.127497   \n",
      "previous_weeks_volume                            1.000000   \n",
      "days_to_next_dividend                           -0.044018   \n",
      "percent_return_next_dividend                    -0.255564   \n",
      "\n",
      "                                    days_to_next_dividend  \\\n",
      "open                                            -0.047445   \n",
      "high                                            -0.047564   \n",
      "low                                             -0.049196   \n",
      "close                                           -0.047662   \n",
      "percent_change_price                             0.043496   \n",
      "volume                                          -0.045132   \n",
      "percent_change_volume_over_last_wk              -0.000235   \n",
      "previous_weeks_volume                           -0.044018   \n",
      "days_to_next_dividend                            1.000000   \n",
      "percent_return_next_dividend                     0.124024   \n",
      "\n",
      "                                    percent_return_next_dividend  \n",
      "open                                                   -0.136370  \n",
      "high                                                   -0.140011  \n",
      "low                                                    -0.134523  \n",
      "close                                                  -0.137836  \n",
      "percent_change_price                                    0.003832  \n",
      "volume                                                 -0.252951  \n",
      "percent_change_volume_over_last_wk                     -0.000919  \n",
      "previous_weeks_volume                                  -0.255564  \n",
      "days_to_next_dividend                                   0.124024  \n",
      "percent_return_next_dividend                            1.000000  \n"
     ]
    }
   ],
   "source": [
    "print(df_feature_train.corr())"
   ]
  }
 ],
 "metadata": {
  "kernelspec": {
   "display_name": "Python 3",
   "language": "python",
   "name": "python3"
  },
  "language_info": {
   "codemirror_mode": {
    "name": "ipython",
    "version": 3
   },
   "file_extension": ".py",
   "mimetype": "text/x-python",
   "name": "python",
   "nbconvert_exporter": "python",
   "pygments_lexer": "ipython3",
   "version": "3.7.4"
  }
 },
 "nbformat": 4,
 "nbformat_minor": 1
}
